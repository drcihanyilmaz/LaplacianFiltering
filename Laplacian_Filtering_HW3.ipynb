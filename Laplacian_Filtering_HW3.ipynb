{
 "cells": [
  {
   "cell_type": "code",
   "execution_count": 6,
   "id": "appreciated-softball",
   "metadata": {},
   "outputs": [],
   "source": [
    "# Write a Laplacian filtering based image sharpening code. Your code should make the details/edges of the image more visible by applying your method to the input image.\n",
    "# You must show that your code works in at least 5 images of your own choosing. \n",
    "# For comparison purposes, you should also show the input and output images where you zoom in on an area containing detail/edge.\n",
    "\n",
    "# Kütüphaneleri yükle\n",
    "import cv2\n",
    "import numpy as np\n",
    "\n",
    "def sharpen_image(image_path, zoom_area):\n",
    "    # Giriş görüntüsünü oku\n",
    "    original_image = cv2.imread(image_path)\n",
    "\n",
    "    # Görüntüyü gri tonlamaya dönüştür\n",
    "    grayscale_image = cv2.cvtColor(original_image, cv2.COLOR_BGR2GRAY)\n",
    "\n",
    "    # Laplasyan (Laplacian) filtresini uygula\n",
    "    laplacian = cv2.Laplacian(grayscale_image, cv2.CV_64F)\n",
    "\n",
    "    # uint8'e geri dönüştür\n",
    "    laplacian = np.uint8(np.absolute(laplacian))\n",
    "\n",
    "    # Netleştirmek için orijinal görüntüye Laplasyan (Laplacian) ekle\n",
    "    sharpened_image = cv2.addWeighted(original_image, 1.5, cv2.cvtColor(laplacian, cv2.COLOR_GRAY2BGR), -0.5, 0)\n",
    "\n",
    "    # Karşılaştırma için belirtilen alana yakınlaştır\n",
    "    x, y, w, h = zoom_area\n",
    "    zoom_original = original_image[y:y+h, x:x+w]\n",
    "    zoom_sharpened = sharpened_image[y:y+h, x:x+w]\n",
    "\n",
    "    # Giriş ve çıkış görüntülerini görüntüle\n",
    "    cv2.imshow('Original Image', original_image)\n",
    "    cv2.imshow('Sharpened Image', sharpened_image)\n",
    "\n",
    "    # Yakınlaştırılmış görünümleri görüntüle\n",
    "    cv2.imshow('Zoomed Original', zoom_original)\n",
    "    cv2.imshow('Zoomed Sharpened', zoom_sharpened)\n",
    "\n",
    "    cv2.waitKey(0)\n",
    "    cv2.destroyAllWindows()\n",
    "\n",
    "# 5 resim ile örnek kullanım\n",
    "image_paths = ['C://Users/pc/Desktop/Laplacian_Filtering/0001.jpg', 'C://Users/pc/Desktop/Laplacian_Filtering/0002.png', 'C://Users/pc/Desktop/Laplacian_Filtering/0003.png', 'C://Users/pc/Desktop/Laplacian_Filtering/0004.jpg', 'C://Users/pc/Desktop/Laplacian_Filtering/0005.png']\n",
    "\n",
    "# Yakınlaştırılacak alanı tanımlayın (bu değerleri resimlerinize göre ayarlayın)\n",
    "zoom_area = (100, 100, 200, 200)\n",
    "\n",
    "for image_path in image_paths:\n",
    "    sharpen_image(image_path, zoom_area)\n"
   ]
  },
  {
   "cell_type": "code",
   "execution_count": null,
   "id": "noble-cemetery",
   "metadata": {},
   "outputs": [],
   "source": []
  }
 ],
 "metadata": {
  "kernelspec": {
   "display_name": "Python 3",
   "language": "python",
   "name": "python3"
  },
  "language_info": {
   "codemirror_mode": {
    "name": "ipython",
    "version": 3
   },
   "file_extension": ".py",
   "mimetype": "text/x-python",
   "name": "python",
   "nbconvert_exporter": "python",
   "pygments_lexer": "ipython3",
   "version": "3.6.12"
  }
 },
 "nbformat": 4,
 "nbformat_minor": 5
}
